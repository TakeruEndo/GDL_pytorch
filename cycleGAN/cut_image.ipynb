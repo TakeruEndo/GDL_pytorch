{
 "cells": [
  {
   "cell_type": "code",
   "execution_count": 4,
   "metadata": {
    "executionInfo": {
     "elapsed": 1090,
     "status": "ok",
     "timestamp": 1611748017197,
     "user": {
      "displayName": "遠藤丈",
      "photoUrl": "",
      "userId": "13996855833058403790"
     },
     "user_tz": -540
    },
    "id": "V-O3A3FDoZM5"
   },
   "outputs": [],
   "source": [
    "import os\n",
    "import random\n",
    "from glob import glob\n",
    "import itertools\n",
    "import numpy as np\n",
    "from PIL import Image\n",
    "%matplotlib inline\n",
    "import matplotlib.pyplot as plt\n",
    "import cv2\n",
    "\n",
    "import torch\n",
    "import torch.nn as nn\n",
    "import torch.optim as optim\n",
    "from torch.utils.data import DataLoader\n",
    "from torchvision import datasets, transforms"
   ]
  },
  {
   "cell_type": "code",
   "execution_count": 5,
   "metadata": {
    "executionInfo": {
     "elapsed": 1199,
     "status": "ok",
     "timestamp": 1611748020165,
     "user": {
      "displayName": "遠藤丈",
      "photoUrl": "",
      "userId": "13996855833058403790"
     },
     "user_tz": -540
    },
    "id": "PQIOIaJooc5c"
   },
   "outputs": [],
   "source": [
    "train = glob('fantasy/*/*.jpg')"
   ]
  },
  {
   "cell_type": "code",
   "execution_count": 6,
   "metadata": {
    "executionInfo": {
     "elapsed": 914,
     "status": "ok",
     "timestamp": 1611748024106,
     "user": {
      "displayName": "遠藤丈",
      "photoUrl": "",
      "userId": "13996855833058403790"
     },
     "user_tz": -540
    },
    "id": "_Rt8prRkpySN"
   },
   "outputs": [],
   "source": [
    "transform = transforms.Compose([transforms.RandomResizedCrop(256)])"
   ]
  },
  {
   "cell_type": "code",
   "execution_count": 7,
   "metadata": {
    "colab": {
     "background_save": true
    },
    "id": "Dfcr5MfxoplV"
   },
   "outputs": [],
   "source": [
    "for i in range(5):\n",
    "    for ind, path in enumerate(train):\n",
    "        img = Image.open(path)\n",
    "        img = transform(img)\n",
    "        img.save(f'fantasy2/{i}_{ind}.jpg')"
   ]
  },
  {
   "cell_type": "code",
   "execution_count": null,
   "metadata": {
    "id": "M7CdP3-isd_0"
   },
   "outputs": [],
   "source": []
  }
 ],
 "metadata": {
  "colab": {
   "authorship_tag": "ABX9TyNnAX04bEgSshxJzhyE+v+r",
   "collapsed_sections": [],
   "mount_file_id": "1fzPUu4W0fN9lRt96xucYWbM5fbjrgLdm",
   "name": "cut_image.ipynb",
   "version": ""
  },
  "kernelspec": {
   "display_name": "Python 3",
   "language": "python",
   "name": "python3"
  },
  "language_info": {
   "codemirror_mode": {
    "name": "ipython",
    "version": 3
   },
   "file_extension": ".py",
   "mimetype": "text/x-python",
   "name": "python",
   "nbconvert_exporter": "python",
   "pygments_lexer": "ipython3",
   "version": "3.6.10"
  }
 },
 "nbformat": 4,
 "nbformat_minor": 1
}
